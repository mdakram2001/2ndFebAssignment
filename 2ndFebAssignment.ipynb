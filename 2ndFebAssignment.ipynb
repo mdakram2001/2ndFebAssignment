{
 "cells": [
  {
   "cell_type": "code",
   "execution_count": 1,
   "id": "650b4d7f-abc4-445c-9910-fdf8cd8463a3",
   "metadata": {},
   "outputs": [
    {
     "name": "stdout",
     "output_type": "stream",
     "text": [
      "1\n",
      "2\n",
      "3\n",
      "4\n",
      "5\n",
      "6\n",
      "7\n",
      "8\n",
      "9\n",
      "1\n",
      "2\n",
      "3\n",
      "4\n",
      "5\n",
      "6\n",
      "7\n",
      "8\n",
      "9\n"
     ]
    }
   ],
   "source": [
    "\"\"\"Q1. Explain with an example each when to use a for loop and a while loop.\n",
    "\n",
    "When you know how many times you want to perform an activity, for loops can be helpful. They are especially helpful for iterating through sequences like as lists, tuples, and strings.\n",
    "While loops, on the other hand, are useful when you want to repeat an activity until a certain condition is met. They're especially useful when you don't know how many times the loop needs to run.\"\"\"\n",
    "#FOR LOOP:\n",
    "for i in range(1,10):\n",
    "    print(i)\n",
    "#Here for loop will print 1-9 as range() function is used.\n",
    "#WHILE LOOP:\n",
    "i = 1\n",
    "while i <10:\n",
    "    print(i)\n",
    "    i = i + 1\n",
    "#On the other hand while loop runs under a certain condition as i <10 in example. It also require the increament of the iterator and variable declaration."
   ]
  },
  {
   "cell_type": "code",
   "execution_count": 2,
   "id": "ef711419-8f70-4933-b69a-d791cd6f4d8b",
   "metadata": {},
   "outputs": [
    {
     "name": "stdout",
     "output_type": "stream",
     "text": [
      "Sum of 1st 10 natural number is : 55\n",
      "Product of 1st 10 natural number is : 3628800\n",
      "Sum of 1st 10 natural number is : 55\n",
      "Product of 1st 10 natural number is : 3628800\n"
     ]
    }
   ],
   "source": [
    "\"\"\"Q2. Write a python program to print the sum and product of the first 10 natural numbers using for\n",
    "and while loop.\"\"\"\n",
    "\n",
    "#FOR LOOP\n",
    "sum = 0\n",
    "for i in range(1,11):\n",
    "    sum = sum + i\n",
    "print(\"Sum of 1st 10 natural number is :\", sum)\n",
    "\n",
    "Product = 1\n",
    "for i in range(1,11):\n",
    "    Product = Product * i\n",
    "print(\"Product of 1st 10 natural number is :\", Product)\n",
    "\n",
    "#WHILE LOOP\n",
    "i = 0\n",
    "sum = 0\n",
    "while i <= 10:\n",
    "    sum = sum + i\n",
    "    i = i + 1\n",
    "print(\"Sum of 1st 10 natural number is :\", sum)\n",
    "\n",
    "Product = 1\n",
    "i = 1\n",
    "while i <= 10:\n",
    "    Product = Product * i\n",
    "    i = i + 1\n",
    "print(\"Product of 1st 10 natural number is :\", Product)"
   ]
  },
  {
   "cell_type": "code",
   "execution_count": 3,
   "id": "e003eb6d-bb64-4316-a79a-4df0795382c6",
   "metadata": {},
   "outputs": [
    {
     "name": "stdin",
     "output_type": "stream",
     "text": [
      "How much units of electricity consumed in your Household: 310\n"
     ]
    },
    {
     "name": "stdout",
     "output_type": "stream",
     "text": [
      "Your total charge for this month is: 6200\n"
     ]
    }
   ],
   "source": [
    "\"\"\"Q3. Create a python program to compute the electricity bill for a household.\"\"\"\n",
    "\n",
    "units = int(input(\"How much units of electricity consumed in your Household:\"))\n",
    "if units >= 0 and units <= 100:\n",
    "    charges = units * 4.5\n",
    "    print(\"Your total charge for this month is:\", charges)\n",
    "elif units > 100 and units <= 200:\n",
    "    charges = units * 6\n",
    "    print(\"Your total charge for this month is:\", charges)\n",
    "elif units > 200 and units <= 300:\n",
    "    charges = units * 10\n",
    "    print(\"Your total charge for this month is:\", charges)\n",
    "elif units > 300:\n",
    "    charges = units * 20\n",
    "    print(\"Your total charge for this month is:\", charges)\n",
    "else:\n",
    "    print(\"Invalid input! Please Try again!\")"
   ]
  },
  {
   "cell_type": "code",
   "execution_count": 4,
   "id": "fc9974f4-0a92-4fe0-8608-30f9732e5574",
   "metadata": {},
   "outputs": [
    {
     "name": "stdout",
     "output_type": "stream",
     "text": [
      "[1, 2, 3, 4, 5, 6, 7, 8, 9, 10, 11, 12, 13, 14, 15, 16, 17, 18, 19, 20, 21, 22, 23, 24, 25, 26, 27, 28, 29, 30, 31, 32, 33, 34, 35, 36, 37, 38, 39, 40, 41, 42, 43, 44, 45, 46, 47, 48, 49, 50, 51, 52, 53, 54, 55, 56, 57, 58, 59, 60, 61, 62, 63, 64, 65, 66, 67, 68, 69, 70, 71, 72, 73, 74, 75, 76, 77, 78, 79, 80, 81, 82, 83, 84, 85, 86, 87, 88, 89, 90, 91, 92, 93, 94, 95, 96, 97, 98, 99, 100]\n",
      "[8, 64, 125, 216, 512, 1000, 1728, 2744, 3375, 4096, 5832, 8000, 10648, 13824, 15625, 17576, 21952, 27000, 32768, 39304, 42875, 46656, 54872, 64000, 74088, 85184, 91125, 97336, 110592, 125000, 140608, 157464, 166375, 175616, 195112, 216000, 238328, 262144, 274625, 287496, 314432, 343000, 373248, 405224, 421875, 438976, 474552, 512000, 551368, 592704, 614125, 636056, 681472, 729000, 778688, 830584, 857375, 884736, 941192, 1000000]\n",
      "[0, 1, 2, 3, 4, 5, 6, 7, 8, 9, 10, 11, 12, 13, 14, 15, 16, 17, 18, 19, 20, 21, 22, 23, 24, 25, 26, 27, 28, 29, 30, 31, 32, 33, 34, 35, 36, 37, 38, 39, 40, 41, 42, 43, 44, 45, 46, 47, 48, 49, 50, 51, 52, 53, 54, 55, 56, 57, 58, 59, 60, 61, 62, 63, 64, 65, 66, 67, 68, 69, 70, 71, 72, 73, 74, 75, 76, 77, 78, 79, 80, 81, 82, 83, 84, 85, 86, 87, 88, 89, 90, 91, 92, 93, 94, 95, 96, 97, 98, 99, 100]\n",
      "[0, 8, 64, 125, 216, 512, 1000, 1728, 2744, 3375, 4096, 5832, 8000, 10648, 13824, 15625, 17576, 21952, 27000, 32768, 39304, 42875, 46656, 54872, 64000, 74088, 85184, 91125, 97336, 110592, 125000, 140608, 157464, 166375, 175616, 195112, 216000, 238328, 262144, 274625, 287496, 314432, 343000, 373248, 405224, 421875, 438976, 474552, 512000, 551368, 592704, 614125, 636056, 681472, 729000, 778688, 830584, 857375, 884736, 941192, 1000000]\n"
     ]
    }
   ],
   "source": [
    "\"\"\"Q4. Create a list of numbers from 1 to 100. Use for loop and while loop to calculate the cube of each\n",
    "number and if the cube of that number is divisible by 4 or 5 then append that number in a list and print\n",
    "that list.\"\"\"\n",
    "\n",
    "#FOR LOOP\n",
    "l = []\n",
    "for i in range(1,101):\n",
    "    l.append(i)\n",
    "print(l)\n",
    "\n",
    "Final_List = []\n",
    "for i in l:\n",
    "    cube = i**3\n",
    "    if cube % 4 == 0 or cube % 5 == 0:\n",
    "        Final_List.append(cube)\n",
    "    else:\n",
    "        pass    \n",
    "print(Final_List)\n",
    "\n",
    "#WHILE LOOP\n",
    "l = []\n",
    "i = 0\n",
    "while i <= 100:\n",
    "    l.append(i)\n",
    "    i = i + 1 \n",
    "print(l)\n",
    "\n",
    "Final_List = []\n",
    "i = 0\n",
    "while i <= 100:\n",
    "    cube = i**3\n",
    "    if cube % 4 == 0 or cube % 5 == 0:\n",
    "        Final_List.append(cube)\n",
    "    else:\n",
    "        pass\n",
    "    i = i + 1  \n",
    "print(Final_List)"
   ]
  },
  {
   "cell_type": "code",
   "execution_count": 5,
   "id": "3b637568-d3ff-42fc-85d4-a92c6de3f345",
   "metadata": {},
   "outputs": [
    {
     "name": "stdout",
     "output_type": "stream",
     "text": [
      "There are 12 vowels in the given sentence and they are ['I', 'a', 'o', 'e', 'o', 'e', 'a', 'a', 'a', 'i', 'e', 'i']\n"
     ]
    }
   ],
   "source": [
    "\"\"\"Q5. Write a program to filter count vowels in the below-given string.\"\"\"\n",
    "\n",
    "str = \"I want to become a data scientist\"\n",
    "vowels = [\"a\",\"e\",\"i\",\"o\",\"u\",\"A\",\"E\",\"I\",\"O\",\"U\"]\n",
    "count = 0\n",
    "new_list = []\n",
    "for i in str:\n",
    "    if i in vowels:\n",
    "        new_list.append(i)\n",
    "        count = count + 1\n",
    "    else:\n",
    "        pass\n",
    "print(\"There are\", count, \"vowels in the given sentence and they are\", new_list)"
   ]
  }
 ],
 "metadata": {
  "kernelspec": {
   "display_name": "Python 3 (ipykernel)",
   "language": "python",
   "name": "python3"
  },
  "language_info": {
   "codemirror_mode": {
    "name": "ipython",
    "version": 3
   },
   "file_extension": ".py",
   "mimetype": "text/x-python",
   "name": "python",
   "nbconvert_exporter": "python",
   "pygments_lexer": "ipython3",
   "version": "3.10.8"
  }
 },
 "nbformat": 4,
 "nbformat_minor": 5
}
